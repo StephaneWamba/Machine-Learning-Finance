{
  "nbformat": 4,
  "nbformat_minor": 0,
  "metadata": {
    "colab": {
      "provenance": [],
      "authorship_tag": "ABX9TyMpeK+L2j9OAnALzFvQlbVN",
      "include_colab_link": true
    },
    "kernelspec": {
      "name": "python3",
      "display_name": "Python 3"
    },
    "language_info": {
      "name": "python"
    }
  },
  "cells": [
    {
      "cell_type": "markdown",
      "metadata": {
        "id": "view-in-github",
        "colab_type": "text"
      },
      "source": [
        "<a href=\"https://colab.research.google.com/github/StephaneWamba/Machine-Learning-Finance/blob/main/How_to_use_a_pretrained_model_to_do_sentiment_analysis_on_scraped_data.ipynb\" target=\"_parent\"><img src=\"https://colab.research.google.com/assets/colab-badge.svg\" alt=\"Open In Colab\"/></a>"
      ]
    },
    {
      "cell_type": "markdown",
      "source": [
        "# **Basic Sentiment Analysis of CNBC Headlines with a pretrained model, example of FinBERT**\n",
        "\n",
        "This notebook demonstrates how to perform sentiment analysis on financial news headlines from CNBC.com using the `ProsusAI/finbert` model, a fine-tuned version of BERT specifically for financial texts. The project aims to categorize headlines into three sentiments: positive, negative, and neutral. This exercise is educational and showcases the practical application of NLP in finance.\n",
        "\n",
        "## Overview\n",
        "- **Scrape CNBC Headlines**: Collect headlines using BeautifulSoup.\n",
        "- **Sentiment Analysis**: Use `ProsusAI/finbert` to predict the sentiment of each headline.\n",
        "- **Analysis and Visualization**: Analyze the distribution of sentiments and visualize the results.\n"
      ],
      "metadata": {
        "id": "dCJcufKBhKpu"
      }
    },
    {
      "cell_type": "markdown",
      "source": [
        "## Setup and Dependencies\n",
        "\n",
        "First, let's install and import the necessary libraries for this project.\n"
      ],
      "metadata": {
        "id": "COk1TPM0hM9Q"
      }
    },
    {
      "cell_type": "code",
      "source": [
        "# Install necessary libraries\n",
        "!pip install requests beautifulsoup4 torch transformers matplotlib pandas\n",
        "\n",
        "# Import libraries\n",
        "import requests\n",
        "from bs4 import BeautifulSoup\n",
        "from transformers import AutoModelForSequenceClassification, AutoTokenizer\n",
        "import torch\n",
        "from torch.nn.functional import softmax\n",
        "import pandas as pd\n",
        "import matplotlib.pyplot as plt\n"
      ],
      "metadata": {
        "colab": {
          "base_uri": "https://localhost:8080/"
        },
        "id": "9MhQzRothO32",
        "outputId": "84657840-9834-417e-de4b-e1e791915103"
      },
      "execution_count": 13,
      "outputs": [
        {
          "output_type": "stream",
          "name": "stdout",
          "text": [
            "Requirement already satisfied: requests in /usr/local/lib/python3.10/dist-packages (2.31.0)\n",
            "Requirement already satisfied: beautifulsoup4 in /usr/local/lib/python3.10/dist-packages (4.12.3)\n",
            "Requirement already satisfied: torch in /usr/local/lib/python3.10/dist-packages (2.1.0+cu121)\n",
            "Requirement already satisfied: transformers in /usr/local/lib/python3.10/dist-packages (4.35.2)\n",
            "Requirement already satisfied: matplotlib in /usr/local/lib/python3.10/dist-packages (3.7.1)\n",
            "Requirement already satisfied: pandas in /usr/local/lib/python3.10/dist-packages (1.5.3)\n",
            "Requirement already satisfied: charset-normalizer<4,>=2 in /usr/local/lib/python3.10/dist-packages (from requests) (3.3.2)\n",
            "Requirement already satisfied: idna<4,>=2.5 in /usr/local/lib/python3.10/dist-packages (from requests) (3.6)\n",
            "Requirement already satisfied: urllib3<3,>=1.21.1 in /usr/local/lib/python3.10/dist-packages (from requests) (2.0.7)\n",
            "Requirement already satisfied: certifi>=2017.4.17 in /usr/local/lib/python3.10/dist-packages (from requests) (2024.2.2)\n",
            "Requirement already satisfied: soupsieve>1.2 in /usr/local/lib/python3.10/dist-packages (from beautifulsoup4) (2.5)\n",
            "Requirement already satisfied: filelock in /usr/local/lib/python3.10/dist-packages (from torch) (3.13.1)\n",
            "Requirement already satisfied: typing-extensions in /usr/local/lib/python3.10/dist-packages (from torch) (4.9.0)\n",
            "Requirement already satisfied: sympy in /usr/local/lib/python3.10/dist-packages (from torch) (1.12)\n",
            "Requirement already satisfied: networkx in /usr/local/lib/python3.10/dist-packages (from torch) (3.2.1)\n",
            "Requirement already satisfied: jinja2 in /usr/local/lib/python3.10/dist-packages (from torch) (3.1.3)\n",
            "Requirement already satisfied: fsspec in /usr/local/lib/python3.10/dist-packages (from torch) (2023.6.0)\n",
            "Requirement already satisfied: triton==2.1.0 in /usr/local/lib/python3.10/dist-packages (from torch) (2.1.0)\n",
            "Requirement already satisfied: huggingface-hub<1.0,>=0.16.4 in /usr/local/lib/python3.10/dist-packages (from transformers) (0.20.3)\n",
            "Requirement already satisfied: numpy>=1.17 in /usr/local/lib/python3.10/dist-packages (from transformers) (1.23.5)\n",
            "Requirement already satisfied: packaging>=20.0 in /usr/local/lib/python3.10/dist-packages (from transformers) (23.2)\n",
            "Requirement already satisfied: pyyaml>=5.1 in /usr/local/lib/python3.10/dist-packages (from transformers) (6.0.1)\n",
            "Requirement already satisfied: regex!=2019.12.17 in /usr/local/lib/python3.10/dist-packages (from transformers) (2023.12.25)\n",
            "Requirement already satisfied: tokenizers<0.19,>=0.14 in /usr/local/lib/python3.10/dist-packages (from transformers) (0.15.1)\n",
            "Requirement already satisfied: safetensors>=0.3.1 in /usr/local/lib/python3.10/dist-packages (from transformers) (0.4.2)\n",
            "Requirement already satisfied: tqdm>=4.27 in /usr/local/lib/python3.10/dist-packages (from transformers) (4.66.1)\n",
            "Requirement already satisfied: contourpy>=1.0.1 in /usr/local/lib/python3.10/dist-packages (from matplotlib) (1.2.0)\n",
            "Requirement already satisfied: cycler>=0.10 in /usr/local/lib/python3.10/dist-packages (from matplotlib) (0.12.1)\n",
            "Requirement already satisfied: fonttools>=4.22.0 in /usr/local/lib/python3.10/dist-packages (from matplotlib) (4.47.2)\n",
            "Requirement already satisfied: kiwisolver>=1.0.1 in /usr/local/lib/python3.10/dist-packages (from matplotlib) (1.4.5)\n",
            "Requirement already satisfied: pillow>=6.2.0 in /usr/local/lib/python3.10/dist-packages (from matplotlib) (9.4.0)\n",
            "Requirement already satisfied: pyparsing>=2.3.1 in /usr/local/lib/python3.10/dist-packages (from matplotlib) (3.1.1)\n",
            "Requirement already satisfied: python-dateutil>=2.7 in /usr/local/lib/python3.10/dist-packages (from matplotlib) (2.8.2)\n",
            "Requirement already satisfied: pytz>=2020.1 in /usr/local/lib/python3.10/dist-packages (from pandas) (2023.4)\n",
            "Requirement already satisfied: six>=1.5 in /usr/local/lib/python3.10/dist-packages (from python-dateutil>=2.7->matplotlib) (1.16.0)\n",
            "Requirement already satisfied: MarkupSafe>=2.0 in /usr/local/lib/python3.10/dist-packages (from jinja2->torch) (2.1.5)\n",
            "Requirement already satisfied: mpmath>=0.19 in /usr/local/lib/python3.10/dist-packages (from sympy->torch) (1.3.0)\n"
          ]
        }
      ]
    },
    {
      "cell_type": "markdown",
      "source": [
        "## Web Scraping CNBC Headlines\n",
        "\n",
        "We'll scrape the CNBC website for headlines. Specifically, we're interested in headlines within elements having class names 'Card-title' and 'TrendingNowItem-title'.\n"
      ],
      "metadata": {
        "id": "9MzELL40hVOP"
      }
    },
    {
      "cell_type": "code",
      "source": [
        "# Function to scrape CNBC for headlines\n",
        "def scrape_cnbc_headlines():\n",
        "    base_url = \"https://www.cnbc.com/investing\"\n",
        "    headers = {\"User-Agent\": \"Mozilla/5.0\"}\n",
        "    response = requests.get(base_url, headers=headers)\n",
        "    soup = BeautifulSoup(response.content, 'html.parser')\n",
        "\n",
        "    # Find all navigation links\n",
        "    nav_links = soup.find_all(class_='PageHeader-navLink')\n",
        "    nav_urls = [link['href'] if link['href'].startswith('http') else 'https://www.cnbc.com' + link['href'] for link in nav_links]\n",
        "\n",
        "    # Initialize a list to store headlines\n",
        "    all_headlines = []\n",
        "\n",
        "    # Iterate through each navigation link URL\n",
        "    for url in nav_urls:\n",
        "        print(url)\n",
        "        # Make a request to the navigation link page\n",
        "        response = requests.get(url, headers=headers)\n",
        "        page_soup = BeautifulSoup(response.content, 'html.parser')\n",
        "\n",
        "        # Find elements by class names for headlines within the nav link pages\n",
        "        card_titles = page_soup.find_all(class_='Card-title')\n",
        "        trending_titles = page_soup.find_all(class_='TrendingNowItem-title')\n",
        "\n",
        "        # Extract text and add to the list of all headlines\n",
        "        headlines = [title.get_text().strip() for title in card_titles + trending_titles]\n",
        "        all_headlines.extend(headlines)\n",
        "\n",
        "    return all_headlines\n",
        "\n",
        "\n",
        "headlines = scrape_cnbc_headlines()\n",
        "print(headlines[:5])  # Display first 5 headlines\n"
      ],
      "metadata": {
        "colab": {
          "base_uri": "https://localhost:8080/"
        },
        "id": "KpFY63oHhS1j",
        "outputId": "37ea59f2-2b27-4c63-9edd-09574881a215"
      },
      "execution_count": 38,
      "outputs": [
        {
          "output_type": "stream",
          "name": "stdout",
          "text": [
            "https://www.cnbc.com/invest-in-you/\n",
            "https://www.cnbc.com/personal-finance/\n",
            "https://www.cnbc.com/options-action/\n",
            "https://www.cnbc.com/etf-street/\n",
            "https://www.cnbc.com/earnings/\n",
            "https://www.cnbc.com/trader-talk/\n",
            "['Should you be worried about your money, your bank or the U.S. banking system? Experts weigh in', 'Buy everything with credit cards — provided you meet 1 condition', 'Missing tax forms can delay your refund. How to know which ones you need', 'Suzy Welch: Tips to recession-proof your job and avoid getting laid off', 'Employers can use this retirement perk as a ‘stepping stone’ to a 401(k)']\n"
          ]
        }
      ]
    },
    {
      "cell_type": "markdown",
      "source": [
        "## Sentiment Analysis with FinBERT\n",
        "\n",
        "Next, we'll load the `ProsusAI/finbert` model and use it to predict the sentiment of each scraped headline. The ProsusAI/finbert model is a variant of the BERT (Bidirectional Encoder Representations from Transformers) model that has been specifically fine-tuned for sentiment analysis in the financial domain.\n"
      ],
      "metadata": {
        "id": "6L6eh3jfhZvk"
      }
    },
    {
      "cell_type": "code",
      "source": [
        "# Function to predict sentiment of headlines\n",
        "def predict_sentiment(headlines):\n",
        "    model_name = \"ProsusAI/finbert\"\n",
        "    model = AutoModelForSequenceClassification.from_pretrained(model_name)\n",
        "    tokenizer = AutoTokenizer.from_pretrained(model_name)\n",
        "\n",
        "    sentiments = []\n",
        "    for headline in headlines:\n",
        "        inputs = tokenizer(headline, return_tensors=\"pt\", padding=True, truncation=True, max_length=512)\n",
        "        with torch.no_grad():\n",
        "            outputs = model(**inputs)\n",
        "        probabilities = softmax(outputs.logits, dim=1)\n",
        "        predicted_class = probabilities.argmax().item()\n",
        "        # Map model output to sentiment labels\n",
        "        sentiment_map = {0: \"negative\", 1: \"neutral\", 2: \"positive\"}\n",
        "        sentiments.append((headline, sentiment_map[predicted_class]))\n",
        "    return sentiments\n",
        "\n",
        "sentiments = predict_sentiment(headlines)\n",
        "print(sentiments[:5])\n"
      ],
      "metadata": {
        "colab": {
          "base_uri": "https://localhost:8080/"
        },
        "id": "j94cqPcfhcWB",
        "outputId": "2fffa403-73be-419b-b549-5367d47b9e9a"
      },
      "execution_count": 42,
      "outputs": [
        {
          "output_type": "stream",
          "name": "stdout",
          "text": [
            "[('Should you be worried about your money, your bank or the U.S. banking system? Experts weigh in', 'positive'), ('Buy everything with credit cards — provided you meet 1 condition', 'positive'), ('Missing tax forms can delay your refund. How to know which ones you need', 'positive'), ('Suzy Welch: Tips to recession-proof your job and avoid getting laid off', 'positive'), ('Employers can use this retirement perk as a ‘stepping stone’ to a 401(k)', 'negative')]\n"
          ]
        }
      ]
    },
    {
      "cell_type": "markdown",
      "source": [
        "## Analysis and Visualization\n",
        "\n",
        "After predicting sentiments, let's analyze the distribution of sentiments among the CNBC headlines and visualize the results with a bar chart.\n"
      ],
      "metadata": {
        "id": "V3-Jo6lrheiJ"
      }
    },
    {
      "cell_type": "code",
      "source": [
        "# Analyze and plot the distribution of sentiments\n",
        "def analyze_and_plot(sentiments):\n",
        "    df = pd.DataFrame(sentiments, columns=['Headline', 'Sentiment'])\n",
        "    sentiment_counts = df['Sentiment'].value_counts()\n",
        "\n",
        "    plt.figure(figsize=(8, 6))\n",
        "    sentiment_counts.plot(kind='bar')\n",
        "    plt.title('Distribution of Sentiments in CNBC Headlines')\n",
        "    plt.xlabel('Sentiment')\n",
        "    plt.ylabel('Number of Headlines')\n",
        "    plt.xticks(rotation=45)\n",
        "    plt.grid(axis='y', linestyle='--')\n",
        "    plt.show()\n",
        "\n",
        "analyze_and_plot(sentiments)\n"
      ],
      "metadata": {
        "colab": {
          "base_uri": "https://localhost:8080/",
          "height": 603
        },
        "id": "pcMz5LnmhhbB",
        "outputId": "131dd650-a7ac-4973-d108-ecd465457e16"
      },
      "execution_count": 41,
      "outputs": [
        {
          "output_type": "display_data",
          "data": {
            "text/plain": [
              "<Figure size 800x600 with 1 Axes>"
            ],
            "image/png": "[encoded data removed]"
          },
          "metadata": {}
        }
      ]
    }
  ]
}